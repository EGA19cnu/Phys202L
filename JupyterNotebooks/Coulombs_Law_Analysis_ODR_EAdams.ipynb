{
  "cells": [
    {
      "cell_type": "markdown",
      "metadata": {
        "id": "KhWC_CprVoVG"
      },
      "source": [
        "# Lab 1: Coulomb's Law"
      ]
    },
    {
      "cell_type": "code",
      "execution_count": 2,
      "metadata": {
        "id": "s0tmh20SVoVI"
      },
      "outputs": [],
      "source": [
        "import numpy as np\n",
        "import pandas as pd\n",
        "import matplotlib.pyplot as plt\n",
        "import scipy.stats as stats\n",
        "\n",
        "# The following lines make plots in dark mode look reasonable.  If you are not using dark\n",
        "# mode you don't need them, but you can also just leave them here and it should work fine.\n",
        "\n",
        "dark_mode = False\n",
        "# plotting choices for dark-mode\n",
        "if (dark_mode):\n",
        "    from jupyterthemes import jtplot\n",
        "    jtplot.style(theme='monokai', context='notebook', ticks=True, grid=False)\n",
        "    linecolor = 'w'\n",
        "else:\n",
        "    linecolor = 'k'"
      ]
    },
    {
      "cell_type": "markdown",
      "metadata": {
        "id": "rfH3P1tJVoVJ"
      },
      "source": [
        "# Calibration of the Torsion Pendulum\n"
      ]
    },
    {
      "cell_type": "code",
      "execution_count": 3,
      "metadata": {
        "id": "3hQ3fv5wVoVK",
        "outputId": "d98176dd-29b3-4fa9-ad5a-c6de687c28dc",
        "colab": {
          "base_uri": "https://localhost:8080/",
          "height": 255
        }
      },
      "outputs": [
        {
          "output_type": "stream",
          "name": "stdout",
          "text": [
            "Raw Data - Calibration\n"
          ]
        },
        {
          "output_type": "execute_result",
          "data": {
            "text/html": [
              "\n",
              "  <div id=\"df-0cd39f5d-ce65-40b6-b56b-fa5ea7e2c2c0\">\n",
              "    <div class=\"colab-df-container\">\n",
              "      <div>\n",
              "<style scoped>\n",
              "    .dataframe tbody tr th:only-of-type {\n",
              "        vertical-align: middle;\n",
              "    }\n",
              "\n",
              "    .dataframe tbody tr th {\n",
              "        vertical-align: top;\n",
              "    }\n",
              "\n",
              "    .dataframe thead th {\n",
              "        text-align: right;\n",
              "    }\n",
              "</style>\n",
              "<table border=\"1\" class=\"dataframe\">\n",
              "  <thead>\n",
              "    <tr style=\"text-align: right;\">\n",
              "      <th></th>\n",
              "      <th>Mass_mg</th>\n",
              "      <th>dMass_mg</th>\n",
              "      <th>Theta_Raw</th>\n",
              "      <th>dTheta_Raw</th>\n",
              "    </tr>\n",
              "  </thead>\n",
              "  <tbody>\n",
              "    <tr>\n",
              "      <th>0</th>\n",
              "      <td>0</td>\n",
              "      <td>0.0</td>\n",
              "      <td>25.5</td>\n",
              "      <td>0.5</td>\n",
              "    </tr>\n",
              "    <tr>\n",
              "      <th>1</th>\n",
              "      <td>20</td>\n",
              "      <td>0.0</td>\n",
              "      <td>160.0</td>\n",
              "      <td>0.5</td>\n",
              "    </tr>\n",
              "    <tr>\n",
              "      <th>2</th>\n",
              "      <td>40</td>\n",
              "      <td>0.0</td>\n",
              "      <td>291.0</td>\n",
              "      <td>0.5</td>\n",
              "    </tr>\n",
              "    <tr>\n",
              "      <th>3</th>\n",
              "      <td>50</td>\n",
              "      <td>0.0</td>\n",
              "      <td>353.5</td>\n",
              "      <td>0.5</td>\n",
              "    </tr>\n",
              "    <tr>\n",
              "      <th>4</th>\n",
              "      <td>70</td>\n",
              "      <td>0.0</td>\n",
              "      <td>490.0</td>\n",
              "      <td>0.5</td>\n",
              "    </tr>\n",
              "    <tr>\n",
              "      <th>5</th>\n",
              "      <td>90</td>\n",
              "      <td>0.0</td>\n",
              "      <td>630.0</td>\n",
              "      <td>0.5</td>\n",
              "    </tr>\n",
              "  </tbody>\n",
              "</table>\n",
              "</div>\n",
              "      <button class=\"colab-df-convert\" onclick=\"convertToInteractive('df-0cd39f5d-ce65-40b6-b56b-fa5ea7e2c2c0')\"\n",
              "              title=\"Convert this dataframe to an interactive table.\"\n",
              "              style=\"display:none;\">\n",
              "        \n",
              "  <svg xmlns=\"http://www.w3.org/2000/svg\" height=\"24px\"viewBox=\"0 0 24 24\"\n",
              "       width=\"24px\">\n",
              "    <path d=\"M0 0h24v24H0V0z\" fill=\"none\"/>\n",
              "    <path d=\"M18.56 5.44l.94 2.06.94-2.06 2.06-.94-2.06-.94-.94-2.06-.94 2.06-2.06.94zm-11 1L8.5 8.5l.94-2.06 2.06-.94-2.06-.94L8.5 2.5l-.94 2.06-2.06.94zm10 10l.94 2.06.94-2.06 2.06-.94-2.06-.94-.94-2.06-.94 2.06-2.06.94z\"/><path d=\"M17.41 7.96l-1.37-1.37c-.4-.4-.92-.59-1.43-.59-.52 0-1.04.2-1.43.59L10.3 9.45l-7.72 7.72c-.78.78-.78 2.05 0 2.83L4 21.41c.39.39.9.59 1.41.59.51 0 1.02-.2 1.41-.59l7.78-7.78 2.81-2.81c.8-.78.8-2.07 0-2.86zM5.41 20L4 18.59l7.72-7.72 1.47 1.35L5.41 20z\"/>\n",
              "  </svg>\n",
              "      </button>\n",
              "      \n",
              "  <style>\n",
              "    .colab-df-container {\n",
              "      display:flex;\n",
              "      flex-wrap:wrap;\n",
              "      gap: 12px;\n",
              "    }\n",
              "\n",
              "    .colab-df-convert {\n",
              "      background-color: #E8F0FE;\n",
              "      border: none;\n",
              "      border-radius: 50%;\n",
              "      cursor: pointer;\n",
              "      display: none;\n",
              "      fill: #1967D2;\n",
              "      height: 32px;\n",
              "      padding: 0 0 0 0;\n",
              "      width: 32px;\n",
              "    }\n",
              "\n",
              "    .colab-df-convert:hover {\n",
              "      background-color: #E2EBFA;\n",
              "      box-shadow: 0px 1px 2px rgba(60, 64, 67, 0.3), 0px 1px 3px 1px rgba(60, 64, 67, 0.15);\n",
              "      fill: #174EA6;\n",
              "    }\n",
              "\n",
              "    [theme=dark] .colab-df-convert {\n",
              "      background-color: #3B4455;\n",
              "      fill: #D2E3FC;\n",
              "    }\n",
              "\n",
              "    [theme=dark] .colab-df-convert:hover {\n",
              "      background-color: #434B5C;\n",
              "      box-shadow: 0px 1px 3px 1px rgba(0, 0, 0, 0.15);\n",
              "      filter: drop-shadow(0px 1px 2px rgba(0, 0, 0, 0.3));\n",
              "      fill: #FFFFFF;\n",
              "    }\n",
              "  </style>\n",
              "\n",
              "      <script>\n",
              "        const buttonEl =\n",
              "          document.querySelector('#df-0cd39f5d-ce65-40b6-b56b-fa5ea7e2c2c0 button.colab-df-convert');\n",
              "        buttonEl.style.display =\n",
              "          google.colab.kernel.accessAllowed ? 'block' : 'none';\n",
              "\n",
              "        async function convertToInteractive(key) {\n",
              "          const element = document.querySelector('#df-0cd39f5d-ce65-40b6-b56b-fa5ea7e2c2c0');\n",
              "          const dataTable =\n",
              "            await google.colab.kernel.invokeFunction('convertToInteractive',\n",
              "                                                     [key], {});\n",
              "          if (!dataTable) return;\n",
              "\n",
              "          const docLinkHtml = 'Like what you see? Visit the ' +\n",
              "            '<a target=\"_blank\" href=https://colab.research.google.com/notebooks/data_table.ipynb>data table notebook</a>'\n",
              "            + ' to learn more about interactive tables.';\n",
              "          element.innerHTML = '';\n",
              "          dataTable['output_type'] = 'display_data';\n",
              "          await google.colab.output.renderOutput(dataTable, element);\n",
              "          const docLink = document.createElement('div');\n",
              "          docLink.innerHTML = docLinkHtml;\n",
              "          element.appendChild(docLink);\n",
              "        }\n",
              "      </script>\n",
              "    </div>\n",
              "  </div>\n",
              "  "
            ],
            "text/plain": [
              "   Mass_mg  dMass_mg  Theta_Raw  dTheta_Raw\n",
              "0        0       0.0       25.5         0.5\n",
              "1       20       0.0      160.0         0.5\n",
              "2       40       0.0      291.0         0.5\n",
              "3       50       0.0      353.5         0.5\n",
              "4       70       0.0      490.0         0.5\n",
              "5       90       0.0      630.0         0.5"
            ]
          },
          "metadata": {},
          "execution_count": 3
        }
      ],
      "source": [
        "# Create a Pandas DataFrame with data for calibration of Torsion pendulum\n",
        "\n",
        "# The data elements are [mass in mg, error in mass in mg, angle in degrees, error in angle in degrees]\n",
        "calibration_data = [[0, 0.0, 25.5, 0.5], [20, 0.0, 160,0.5], [40, 0.0, 291,0.5], \n",
        "                    [50, 0.0, 353.5,0.5], [70, 0.0, 490,0.5], [90, 0.0, 630,0.5]]\n",
        "\n",
        "# The values in this next line are for the WebWork exercise.\n",
        "#calibration_data = [[152.9, 0.0, 9.3, 0.0], [448.5, 0.0, 19.3, 0.0], \n",
        "#                    [550.5, 0.0, 25.1, 0.0], [560.7, 0.0, 29.8, 0.0], \n",
        "#                    [825.7, 0.0, 39.1, 0.0]]\n",
        "\n",
        "# create dataframe\n",
        "df = pd.DataFrame(calibration_data, columns = ['Mass_mg', 'dMass_mg', 'Theta_Raw', 'dTheta_Raw'])\n",
        "\n",
        "print('Raw Data - Calibration')\n",
        "df\n"
      ]
    },
    {
      "cell_type": "code",
      "execution_count": 4,
      "metadata": {
        "id": "itBFpWxMVoVL",
        "outputId": "dde4d434-47e4-4a4b-8c2a-2c044d65c617",
        "colab": {
          "base_uri": "https://localhost:8080/"
        }
      },
      "outputs": [
        {
          "output_type": "stream",
          "name": "stdout",
          "text": [
            " Mass_mg  dMass_mg  Theta_Raw  dTheta_Raw  Theta  dTheta     Mass         dMass     Force        dForce\n",
            "       0       0.1       25.5         0.5    0.0     1.0  0.00000  1.000000e-07  0.000000  9.810000e-07\n",
            "      20       0.3      160.0         0.5  134.5     1.0  0.00002  3.000000e-07  0.000196  2.943000e-06\n",
            "      40       0.5      291.0         0.5  265.5     1.0  0.00004  5.000000e-07  0.000392  4.905000e-06\n",
            "      50       0.6      353.5         0.5  328.0     1.0  0.00005  6.000000e-07  0.000490  5.886000e-06\n",
            "      70       0.8      490.0         0.5  464.5     1.0  0.00007  8.000000e-07  0.000687  7.848000e-06\n",
            "      90       1.0      630.0         0.5  604.5     1.0  0.00009  1.000000e-06  0.000883  9.810000e-06\n"
          ]
        }
      ],
      "source": [
        "# What is the uncertainty in the mass?  We are not really told in the video.  But, let's\n",
        "# make an educated guess ... it is probably going to be some absolute finite number, plus\n",
        "# some percentage error.\n",
        "\n",
        "df['dMass_mg'] = 0.1 + df['Mass_mg']*0.01\n",
        "\n",
        "# Calcualate the actual value of theta by subtracting off the angle for Mass=0.  Also, \n",
        "# calculate the error in the actual angle using dTheta = dTheta_Raw[i] + dtheta_Raw[0]\n",
        "\n",
        "offset = df['Theta_Raw'][0]\n",
        "doffset = df['dTheta_Raw'][0]\n",
        "\n",
        "# For WebWork\n",
        "#offset = 0\n",
        "#doffset = 0\n",
        "\n",
        "df['Theta'] = df['Theta_Raw'] - offset\n",
        "df['dTheta'] = df['dTheta_Raw'] + doffset\n",
        "\n",
        "# Calculate the mass in kg, and the error in the mass in kg\n",
        "df['Mass'] = df['Mass_mg']*0.000001\n",
        "df['dMass'] = df['dMass_mg']*0.000001\n",
        "\n",
        "# Calculate the gravitational Force (and Error) in Newtons\n",
        "g = 9.81\n",
        "df['Force'] = df['Mass']*g\n",
        "df['dForce'] = df['dMass']*g\n",
        "\n",
        "print(df.to_string(index=False))"
      ]
    },
    {
      "cell_type": "markdown",
      "metadata": {
        "id": "Y4lbNAUuVoVM"
      },
      "source": [
        "# Fitting Stuff\n",
        "\n",
        "You may have already seen examples of both linear and non-linear regression fits to data.  In most (maybe all?) experiments though, we often have uncertainties associated with each data point.  We should understand more about how this affects the fitting procedure.\n",
        "\n",
        "The linear/non-linear regression examples that we have studied thus far use a method called \"Ordinary Least Squares\".  The basic theory behind this is:\n",
        "\n",
        "$\\chi^2 = \\sum_i^N (y_i - y_{fit}(x_i))^2$\n",
        "\n",
        "where $y_{fit} = f(a,b,c,...)$ is the fitting function.  The idea is that we must solve the set of equations defined by:\n",
        "\n",
        "$\\frac{\\partial \\chi^2}{\\partial a} = 0, \\frac{\\partial \\chi^2}{\\partial b} = 0, \\frac{\\partial \\chi^2}{\\partial c} = 0, ...$\n",
        "\n",
        "In the case of polynomial fitting functions (of any order), the values of the polynomial coefficients are uniquely defined.  That is, there is a single global minimum in the $\\chi^2$ function.  For other non-linear fitting functions, there may be local minima in the $\\chi^2$ function, and this requires that we provide initial starting values for the parameters of the fitting function that are close to the global minimum.\n",
        "\n",
        "When we have uncertainties for each of the $N$ data points, the definition of $\\chi^2$ becomes:\n",
        "\n",
        "$\\chi^2 = \\sum_i^N \\left (\\frac{y_i - y_{fit}(x_i)}{\\sigma_i}\\right)^2$\n",
        "\n",
        "Now, for this calibration procedure, we have ZERO uncertainty in the y-variable (Mass), and we have some non-zero uncertainty in the x-variable (Angle).  As it turns out, the Ordinary Least Squares procedure can ONLY take into account uncertainties in the y-variable!!!!  This is a actually a significant limitation of this procedure, and we actually should use a more advanced methodology.\n",
        "\n",
        "The method of choice here is called Orthogonal Distance Regression.  The idea is that we want to minimize the orthogonal distance between the line of best fit and the data points.  It is actually a fairly complicated procedure, and we are\n",
        "going to use some Python code that I have written to do this that uses some Python libraries written expressly for this\n",
        "purpose."
      ]
    },
    {
      "cell_type": "markdown",
      "metadata": {
        "id": "J9UKHnmvVoVN"
      },
      "source": [
        "# The Fitting Code\n",
        "\n",
        "The following cell is a very important one!  We will be using this fitting procedure in basically every experiment this semester!!!!\n",
        "\n",
        "The idea is this:  The first few lines are where we define the data to be fitted.  We need an array of x-values (xi), an array of y-values (yi). We also\n",
        "include definitions of arrays for the uncertainties in x (sigmaxi) and y (sigmayi).\n",
        "\n",
        "The lines after that carry out a fairly sophisticated fitting procedure that includes calculation of upper and lower \"bands\" of the fit corresponding to the error limits on the fit parameters.  These lines give a nice visual\n",
        "interpretation of how good the fit is, and whether it captures the variation in the\n",
        "data.\n",
        "\n",
        "This code also prints out the final result for the Y = (m +/- dm)X + ( b +/- db) fit.  \n",
        "\n",
        "*NOTE*:  You might have to change the number of decimal places that are printed out for the final result!!!"
      ]
    },
    {
      "cell_type": "code",
      "execution_count": 5,
      "metadata": {
        "id": "0T0ULD1bVoVO",
        "outputId": "21491e8e-2913-4906-a81e-77b230475d53",
        "colab": {
          "base_uri": "https://localhost:8080/",
          "height": 618
        }
      },
      "outputs": [
        {
          "output_type": "stream",
          "name": "stdout",
          "text": [
            "Beta: [ 1.47530649e-06 -1.35261052e-07]\n",
            "Beta Std Error: [7.75304054e-09 1.31187721e-06]\n",
            "Beta Covariance: [[ 9.65001736e-17 -8.62439800e-15]\n",
            " [-8.62439800e-15  2.76293302e-12]]\n",
            "Residual Variance: 0.6228966783454686\n",
            "Inverse Condition #: 0.005027569050915572\n",
            "Reason(s) for Halting:\n",
            "  Sum of squares convergence\n",
            "\n",
            "Final Result: Y = (0.000001475 +/- 0.000000008) X + (-0.000000135 +/- 0.000001312)\n"
          ]
        },
        {
          "output_type": "display_data",
          "data": {
            "image/png": "[encoded data removed]",
            "text/plain": [
              "<Figure size 640x480 with 1 Axes>"
            ]
          },
          "metadata": {
            "needs_background": "light"
          }
        }
      ],
      "source": [
        "xi = df['Theta']\n",
        "yi = df['Force']\n",
        "sigmaxi = df['dTheta']\n",
        "sigmayi = df['dForce']\n",
        "\n",
        "##############################\n",
        "\n",
        "from scipy.odr import *\n",
        "\n",
        "def fitfunction(B, x):\n",
        "    '''Linear function y = m*x + b'''\n",
        "    # B is a vector of the parameters.\n",
        "    # x is an array of the current x values.\n",
        "    # x is in the same format as the x passed to Data or RealData.\n",
        "    #\n",
        "    # Return an array in the same format as y passed to Data or RealData.\n",
        "    return B[0]*x + B[1]\n",
        "\n",
        "linear = Model(fitfunction) # create a Model object based on the fitfuncion we have defined\n",
        "mydata = RealData(xi, yi, sx=sigmaxi, sy=sigmayi) # create a data object based on our data, include errors.\n",
        "myodr = ODR(mydata, linear, beta0=[1., 2.]) # create a fitting object, based on the data, fit Model, and an intial set of parameters.\n",
        "myoutput = myodr.run()  # run the fitting process to get optimized parameters!\n",
        "\n",
        "myoutput.pprint() # print out the result of the fit\n",
        "\n",
        "# Now assign the important fit results to some more convenient variables.\n",
        "\n",
        "popt = myoutput.beta # the vector of optimized parameters\n",
        "pcov = myoutput.cov_beta # the covariance matrix\n",
        "perr = myoutput.sd_beta # the vector of ERRORS in the optimized parameters\n",
        "\n",
        "# The following lines generate upper and lower 99% \"Confidence Bands\" on the fit, for visualization\n",
        "# purposes.\n",
        "\n",
        "ps = np.random.multivariate_normal(popt,pcov,10000)\n",
        "ysample=np.asarray([fitfunction(pi,xi) for pi in ps])\n",
        "\n",
        "lower = np.percentile(ysample,0.5,axis=0)\n",
        "upper = np.percentile(ysample,99.5,axis=0)\n",
        "middle = (lower+upper)/2.0\n",
        "\n",
        "print()\n",
        "print (\"Final Result: Y = (%0.9f +/- %0.9f) X + (%0.9f +/- %0.9f)\" % (popt[0],perr[0],popt[1],perr[1]))\n",
        "\n",
        "plt.figure(figsize=(8, 6), dpi=80)\n",
        "\n",
        "plt.errorbar(xi, yi, xerr=sigmaxi, yerr=sigmayi, fmt='o', capsize=2, capthick=1)\n",
        "\n",
        "plt.plot(xi,middle)\n",
        "plt.plot(xi,lower)\n",
        "plt.plot(xi,upper)\n",
        "\n",
        "#########################\n",
        "\n",
        "plt.xlabel('Angle (degrees)')\n",
        "plt.ylabel('Force (Newtons)')\n",
        "plt.title('Calibration of Torsion Balance:  Dependence of Force on Angle')\n",
        "plt.show()"
      ]
    },
    {
      "cell_type": "markdown",
      "metadata": {
        "id": "gaTt8qbwVoVO"
      },
      "source": [
        "## Analysis of Calibration Result\n",
        "\n",
        "First of all, we see that this is a very good fit.  The upper and lower error band lines\n",
        "are barely distinguishable from one another.  This tells us that we are able to determine the Force for a given angle quite accurately!  Cool!\n",
        "\n",
        "Second, we see that the result for the y-intercept (b) is consistent with zero $(0.135 \\pm 1.312) \\times 10^{-6}$ Newtons.  This is consistent with our expectations.  Since it is consistent with\n",
        "zero, we can just ignore this going forward and assume it is identically zero.\n",
        "\n",
        "Third, we see that the calibration constant that we were trying to determine is\n",
        "$(1.475 \\pm 0.008) \\times 10^{-6}$ Newtons/degree.  As we said, this is quite well-determined ... the percentage error is $(0.008/1.475)*100\\% = 0.54 \\%$."
      ]
    },
    {
      "cell_type": "code",
      "execution_count": 6,
      "metadata": {
        "id": "mI106MHcVoVP"
      },
      "outputs": [],
      "source": [
        "#\n",
        "# Remember the results of the calibration part of the experiment ... we will use this later, to convert angles into Force values!\n",
        "#\n",
        "calibration_factor = popt[0]\n",
        "\n",
        "# We will use 3 times the error in the slope from above, as this represents a 99% confidence level ... this is appropriate\n",
        "# given that we are assuming \"maximum possible error\" when combining with other instrumental uncertainties in the\n",
        "# experiment\n",
        "dcalibration_factor = 3*perr[0]"
      ]
    },
    {
      "cell_type": "markdown",
      "metadata": {
        "id": "1qgD45qgVoVP"
      },
      "source": [
        "# Part I:  Investigation of the Dependence of the Force on Distance"
      ]
    },
    {
      "cell_type": "code",
      "execution_count": 7,
      "metadata": {
        "id": "rojI0x5jVoVQ",
        "outputId": "e830dc09-cd51-4fd2-f67a-2eed5bd1d41e",
        "colab": {
          "base_uri": "https://localhost:8080/"
        }
      },
      "outputs": [
        {
          "output_type": "stream",
          "name": "stdout",
          "text": [
            " R_cm  Theta  dTheta\n",
            "   20   15.0     0.5\n",
            "   20   16.5     0.5\n",
            "   14   45.0     0.5\n",
            "   14   40.0     0.5\n",
            "   10   65.0     0.5\n",
            "   10   72.0     0.5\n",
            "    9   80.0     0.5\n",
            "    9   80.0     0.5\n",
            "    8  105.0     0.5\n",
            "    8  103.0     0.5\n",
            "    7  141.0     0.5\n",
            "    7  140.0     0.5\n",
            "    6  181.0     0.5\n",
            "    6  178.0     0.5\n"
          ]
        }
      ],
      "source": [
        "# Create a Pandas DataFrame with data for part 1 of the experiment:  understanding the relation of Force to distance, at constant\n",
        "# charge\n",
        "\n",
        "# The data elements are [distance in cm, angle in degrees] ... again, since we are going to do a linear regression using OLS, we will\n",
        "# not include errors\n",
        "data1 = [[20,15, 0.5], [20,16.5,0.5], [14,45,0.5], [14,40,0.5], [10,65,0.5], [10,72,0.5], [9,80,0.5], \n",
        "         [9,80,0.5], [8,105,0.5], [8,103,0.5], [7,141,0.5], [7,140,0.5], [6,181,0.5], [6,178,0.5]]\n",
        "# create dataframe\n",
        "df2 = pd.DataFrame(data1, columns = ['R_cm', 'Theta','dTheta'])\n",
        "\n",
        "print(df2.to_string(index=False))"
      ]
    },
    {
      "cell_type": "markdown",
      "metadata": {
        "id": "-ir7a0wdVoVQ"
      },
      "source": [
        "The theory tells us that $F = k \\frac{ Q_1  Q_2}{R^2}$.  So, if we were to plot a \n",
        "graph of $F$ vs. $\\frac{1}{R^2}$, it should be a straight line\n",
        "with a slope of $k Q_1 Q_2$.  Let's try that!"
      ]
    },
    {
      "cell_type": "markdown",
      "metadata": {
        "id": "3H230m-GVoVR"
      },
      "source": [
        "So, how do calculate force values from the given angles, with error?  The idea is as follows:\n",
        "\n",
        "$F = C \\cdot \\theta$\n",
        "\n",
        "where we have uncertainties in both $C$ and $\\theta$.  From basic uncertainty analysis, we know that:\n",
        "\n",
        "$\\frac{dF}{F} = \\frac{dC}{C} + \\frac{d\\theta}{\\theta}$\n",
        "\n",
        "$dF= F (\\frac{dC}{C} + \\frac{d\\theta}{\\theta})$"
      ]
    },
    {
      "cell_type": "code",
      "execution_count": 8,
      "metadata": {
        "id": "ZxOAvr_kVoVR",
        "outputId": "7a784ca4-e2eb-46dc-a239-76ce7b5de7ef",
        "colab": {
          "base_uri": "https://localhost:8080/"
        }
      },
      "outputs": [
        {
          "output_type": "stream",
          "name": "stdout",
          "text": [
            " R_cm  Theta  dTheta     Force    dForce     R     dR\n",
            "   20   15.0     0.5  0.000022  0.000001  0.20  0.001\n",
            "   20   16.5     0.5  0.000024  0.000001  0.20  0.001\n",
            "   14   45.0     0.5  0.000066  0.000002  0.14  0.001\n",
            "   14   40.0     0.5  0.000059  0.000002  0.14  0.001\n",
            "   10   65.0     0.5  0.000096  0.000002  0.10  0.001\n",
            "   10   72.0     0.5  0.000106  0.000002  0.10  0.001\n",
            "    9   80.0     0.5  0.000118  0.000003  0.09  0.001\n",
            "    9   80.0     0.5  0.000118  0.000003  0.09  0.001\n",
            "    8  105.0     0.5  0.000155  0.000003  0.08  0.001\n",
            "    8  103.0     0.5  0.000152  0.000003  0.08  0.001\n",
            "    7  141.0     0.5  0.000208  0.000004  0.07  0.001\n",
            "    7  140.0     0.5  0.000207  0.000004  0.07  0.001\n",
            "    6  181.0     0.5  0.000267  0.000005  0.06  0.001\n",
            "    6  178.0     0.5  0.000263  0.000005  0.06  0.001\n"
          ]
        }
      ],
      "source": [
        "# We will have to convert the angle values to Forces, and also include an uncertainty.\n",
        "# We will have to convert the measured radius values to meters, and include an uncertainty.\n",
        "\n",
        "df2['Force'] = df2['Theta']*calibration_factor\n",
        "df2['dForce'] = df2['Force']*(dcalibration_factor/calibration_factor + \n",
        "                              df2['dTheta']/df2['Theta'])\n",
        "\n",
        "df2['R'] = df2['R_cm']*0.01\n",
        "df2['dR'] = 0.001\n",
        "\n",
        "print(df2.to_string(index=False))"
      ]
    },
    {
      "cell_type": "code",
      "execution_count": 9,
      "metadata": {
        "id": "cY_pT2QPVoVR",
        "outputId": "a76ba908-bac8-4627-9a43-aa05530aa3e2",
        "colab": {
          "base_uri": "https://localhost:8080/",
          "height": 625
        }
      },
      "outputs": [
        {
          "output_type": "stream",
          "name": "stdout",
          "text": [
            "Beta: [9.98126671e-07 1.17286339e-06]\n",
            "Beta Std Error: [4.14488886e-08 2.75242123e-06]\n",
            "Beta Covariance: [[ 2.03994268e-16 -1.02843335e-14]\n",
            " [-1.02843335e-14  8.99543112e-13]]\n",
            "Residual Variance: 8.421856076478297\n",
            "Inverse Condition #: 0.00978350145112219\n",
            "Reason(s) for Halting:\n",
            "  Sum of squares convergence\n",
            "\n",
            "Final Result: Y = (0.000000998 +/- 0.000000041) X + (0.000001173 +/- 0.000002752)\n"
          ]
        },
        {
          "output_type": "display_data",
          "data": {
            "image/png": "[encoded data removed]",
            "text/plain": [
              "<Figure size 640x480 with 1 Axes>"
            ]
          },
          "metadata": {
            "needs_background": "light"
          }
        }
      ],
      "source": [
        "xi = 1.0/(df2['R'])**2\n",
        "yi = df2['Force']\n",
        "\n",
        "sigmaxi = xi*2.0*(df2['dR']/df2['R'])\n",
        "sigmayi = df2['dForce']\n",
        "\n",
        "##############################\n",
        "\n",
        "from scipy.odr import *\n",
        "\n",
        "def fitfunction(B, x):\n",
        "    '''Linear function y = m*x + b'''\n",
        "    # B is a vector of the parameters.\n",
        "    # x is an array of the current x values.\n",
        "    # x is in the same format as the x passed to Data or RealData.\n",
        "    #\n",
        "    # Return an array in the same format as y passed to Data or RealData.\n",
        "    return B[0]*x + B[1]\n",
        "\n",
        "linear = Model(fitfunction)\n",
        "mydata = RealData(xi, yi, sx=sigmaxi, sy=sigmayi)\n",
        "myodr = ODR(mydata, linear, beta0=[1., 2.])\n",
        "myoutput = myodr.run()\n",
        "\n",
        "myoutput.pprint()\n",
        "\n",
        "popt = myoutput.beta\n",
        "pcov = myoutput.cov_beta\n",
        "perr = myoutput.sd_beta\n",
        "\n",
        "# The following lines generate upper and lower 99% \"Confidence Bands\" on the fit, for visualization\n",
        "# purposes.\n",
        "\n",
        "ps = np.random.multivariate_normal(popt,pcov,10000)\n",
        "ysample=np.asarray([fitfunction(pi,xi) for pi in ps])\n",
        "\n",
        "lower = np.percentile(ysample,0.5,axis=0)\n",
        "upper = np.percentile(ysample,99.5,axis=0)\n",
        "middle = (lower+upper)/2.0\n",
        "\n",
        "print()\n",
        "print (\"Final Result: Y = (%0.9f +/- %0.9f) X + (%0.9f +/- %0.9f)\" % (popt[0],perr[0],popt[1],perr[1]))\n",
        "\n",
        "plt.figure(figsize=(8, 6), dpi=80)\n",
        "\n",
        "plt.errorbar(xi, yi, xerr=sigmaxi, yerr=sigmayi, fmt='o', capsize=2, capthick=1)\n",
        "\n",
        "plt.plot(xi,middle)\n",
        "plt.plot(xi,lower)\n",
        "plt.plot(xi,upper)\n",
        "\n",
        "#########################\n",
        "plt.xlabel('1/R$^2$ (m$^{-2})$')\n",
        "plt.ylabel('Force (Newtons)')\n",
        "plt.title('Coulombs Law:  Dependence of Force on Distance')\n",
        "plt.show()"
      ]
    },
    {
      "cell_type": "markdown",
      "metadata": {
        "id": "U8eI6sTDVoVS"
      },
      "source": [
        "## Preliminary observations \n",
        "\n",
        "So, our first observation is that indeed, the plot seems roughly linear, as we expected!  This means that our guess for the form of the force law was probably correct!  "
      ]
    },
    {
      "cell_type": "markdown",
      "metadata": {
        "id": "liaRHzqxVoVS"
      },
      "source": [
        "We know that the slope is supposed to be $k Q_1 Q_2$.  So, what are $Q_1$ and $Q_2$?  According to the same theory, they should be\n",
        "equal to one another, and be related to the applied voltage, V, according to:\n",
        "\n",
        "$Q = \\frac{R_{sphere}}{k} V$\n",
        "\n",
        "Substituting this into our experession for the slope, we get:\n",
        "\n",
        "$slope = k  \\left( \\frac{R_{sphere}}{k} V \\right) \\left( \\frac{R_{sphere}}{k}V \\right) = \\frac{R_{sphere}^2 V^2}{k}$\n",
        "\n",
        "$k = \\frac{R_{sphere}^2 V^2}{slope}$\n",
        "\n",
        "We used $V = 6.00~kV = 6000~V$.\n",
        "We are told that $R_{sphere} = 1.9~cm = 0.019~m$.\n",
        "\n",
        "But, there are uncertainties in both of these numbers:\n",
        "\n",
        "$dV = 10~Volts + (0.01)V = 10~Volts + 0.01(6000 V) = 70~Volts$.\n",
        "\n",
        "$dR_{sphere} = 0.1~cm = 0.001~m$.\n",
        "\n",
        "From basic error analysis, we get that $\\frac{dk}{k} = 2 \\frac{dR_{sphere}}{R_{sphere}} + 2\\frac{dV}{V} + \\frac{dslope}{slope}$"
      ]
    },
    {
      "cell_type": "code",
      "execution_count": 10,
      "metadata": {
        "id": "juJlZmqHVoVS",
        "outputId": "c5093e25-3138-465a-ab01-1c5add50b5d0",
        "colab": {
          "base_uri": "https://localhost:8080/"
        }
      },
      "outputs": [
        {
          "output_type": "stream",
          "name": "stdout",
          "text": [
            "Extracted value of k = (13.0 +/- 3.3) x 10^9 Nm^2/C^2\n"
          ]
        }
      ],
      "source": [
        "#\n",
        "# Now, let us see if we can calculate what k is, based on the slope from the previous graph\n",
        "#\n",
        "\n",
        "slope = popt[0]\n",
        "# Let's choose +/- 3*sigma (99% confidence level) as the error in the slope.  Given that\n",
        "# we are going to combine this error together with errors in the sphere radius and the\n",
        "# sphere-to-sphere distance, which are clearly maximum possible error estimates, this is\n",
        "# a reasonable choice.\n",
        "dslope = 3*perr[0]\n",
        "\n",
        "V = 6000\n",
        "dV = 10 + 0.01*V\n",
        "R_sphere = 0.019\n",
        "dR_sphere = 0.001\n",
        "\n",
        "k = R_sphere**2*V**2/slope\n",
        "dk = k*(2*dR_sphere/R_sphere+2*dV/V+dslope/slope)\n",
        "\n",
        "print ('Extracted value of k = (%0.1f +/- %0.1f) x 10^9 Nm^2/C^2' % (k/1e9,dk/1e9))"
      ]
    },
    {
      "cell_type": "code",
      "execution_count": 11,
      "metadata": {
        "id": "tytEgRgCVoVT",
        "outputId": "3712da0e-5438-4dc4-eb78-572a025a4079",
        "colab": {
          "base_uri": "https://localhost:8080/",
          "height": 175
        }
      },
      "outputs": [
        {
          "output_type": "execute_result",
          "data": {
            "text/html": [
              "\n",
              "  <div id=\"df-932886b5-bc67-4d9a-b1e7-ed8b663fa278\">\n",
              "    <div class=\"colab-df-container\">\n",
              "      <div>\n",
              "<style scoped>\n",
              "    .dataframe tbody tr th:only-of-type {\n",
              "        vertical-align: middle;\n",
              "    }\n",
              "\n",
              "    .dataframe tbody tr th {\n",
              "        vertical-align: top;\n",
              "    }\n",
              "\n",
              "    .dataframe thead th {\n",
              "        text-align: right;\n",
              "    }\n",
              "</style>\n",
              "<table border=\"1\" class=\"dataframe\">\n",
              "  <thead>\n",
              "    <tr style=\"text-align: right;\">\n",
              "      <th></th>\n",
              "      <th>Source</th>\n",
              "      <th>Percentage Error</th>\n",
              "    </tr>\n",
              "  </thead>\n",
              "  <tbody>\n",
              "    <tr>\n",
              "      <th>0</th>\n",
              "      <td>R_sphere</td>\n",
              "      <td>10.526316</td>\n",
              "    </tr>\n",
              "    <tr>\n",
              "      <th>1</th>\n",
              "      <td>V</td>\n",
              "      <td>2.333333</td>\n",
              "    </tr>\n",
              "    <tr>\n",
              "      <th>2</th>\n",
              "      <td>Slope</td>\n",
              "      <td>12.458005</td>\n",
              "    </tr>\n",
              "    <tr>\n",
              "      <th>3</th>\n",
              "      <td>Total</td>\n",
              "      <td>25.317654</td>\n",
              "    </tr>\n",
              "  </tbody>\n",
              "</table>\n",
              "</div>\n",
              "      <button class=\"colab-df-convert\" onclick=\"convertToInteractive('df-932886b5-bc67-4d9a-b1e7-ed8b663fa278')\"\n",
              "              title=\"Convert this dataframe to an interactive table.\"\n",
              "              style=\"display:none;\">\n",
              "        \n",
              "  <svg xmlns=\"http://www.w3.org/2000/svg\" height=\"24px\"viewBox=\"0 0 24 24\"\n",
              "       width=\"24px\">\n",
              "    <path d=\"M0 0h24v24H0V0z\" fill=\"none\"/>\n",
              "    <path d=\"M18.56 5.44l.94 2.06.94-2.06 2.06-.94-2.06-.94-.94-2.06-.94 2.06-2.06.94zm-11 1L8.5 8.5l.94-2.06 2.06-.94-2.06-.94L8.5 2.5l-.94 2.06-2.06.94zm10 10l.94 2.06.94-2.06 2.06-.94-2.06-.94-.94-2.06-.94 2.06-2.06.94z\"/><path d=\"M17.41 7.96l-1.37-1.37c-.4-.4-.92-.59-1.43-.59-.52 0-1.04.2-1.43.59L10.3 9.45l-7.72 7.72c-.78.78-.78 2.05 0 2.83L4 21.41c.39.39.9.59 1.41.59.51 0 1.02-.2 1.41-.59l7.78-7.78 2.81-2.81c.8-.78.8-2.07 0-2.86zM5.41 20L4 18.59l7.72-7.72 1.47 1.35L5.41 20z\"/>\n",
              "  </svg>\n",
              "      </button>\n",
              "      \n",
              "  <style>\n",
              "    .colab-df-container {\n",
              "      display:flex;\n",
              "      flex-wrap:wrap;\n",
              "      gap: 12px;\n",
              "    }\n",
              "\n",
              "    .colab-df-convert {\n",
              "      background-color: #E8F0FE;\n",
              "      border: none;\n",
              "      border-radius: 50%;\n",
              "      cursor: pointer;\n",
              "      display: none;\n",
              "      fill: #1967D2;\n",
              "      height: 32px;\n",
              "      padding: 0 0 0 0;\n",
              "      width: 32px;\n",
              "    }\n",
              "\n",
              "    .colab-df-convert:hover {\n",
              "      background-color: #E2EBFA;\n",
              "      box-shadow: 0px 1px 2px rgba(60, 64, 67, 0.3), 0px 1px 3px 1px rgba(60, 64, 67, 0.15);\n",
              "      fill: #174EA6;\n",
              "    }\n",
              "\n",
              "    [theme=dark] .colab-df-convert {\n",
              "      background-color: #3B4455;\n",
              "      fill: #D2E3FC;\n",
              "    }\n",
              "\n",
              "    [theme=dark] .colab-df-convert:hover {\n",
              "      background-color: #434B5C;\n",
              "      box-shadow: 0px 1px 3px 1px rgba(0, 0, 0, 0.15);\n",
              "      filter: drop-shadow(0px 1px 2px rgba(0, 0, 0, 0.3));\n",
              "      fill: #FFFFFF;\n",
              "    }\n",
              "  </style>\n",
              "\n",
              "      <script>\n",
              "        const buttonEl =\n",
              "          document.querySelector('#df-932886b5-bc67-4d9a-b1e7-ed8b663fa278 button.colab-df-convert');\n",
              "        buttonEl.style.display =\n",
              "          google.colab.kernel.accessAllowed ? 'block' : 'none';\n",
              "\n",
              "        async function convertToInteractive(key) {\n",
              "          const element = document.querySelector('#df-932886b5-bc67-4d9a-b1e7-ed8b663fa278');\n",
              "          const dataTable =\n",
              "            await google.colab.kernel.invokeFunction('convertToInteractive',\n",
              "                                                     [key], {});\n",
              "          if (!dataTable) return;\n",
              "\n",
              "          const docLinkHtml = 'Like what you see? Visit the ' +\n",
              "            '<a target=\"_blank\" href=https://colab.research.google.com/notebooks/data_table.ipynb>data table notebook</a>'\n",
              "            + ' to learn more about interactive tables.';\n",
              "          element.innerHTML = '';\n",
              "          dataTable['output_type'] = 'display_data';\n",
              "          await google.colab.output.renderOutput(dataTable, element);\n",
              "          const docLink = document.createElement('div');\n",
              "          docLink.innerHTML = docLinkHtml;\n",
              "          element.appendChild(docLink);\n",
              "        }\n",
              "      </script>\n",
              "    </div>\n",
              "  </div>\n",
              "  "
            ],
            "text/plain": [
              "     Source  Percentage Error\n",
              "0  R_sphere         10.526316\n",
              "1         V          2.333333\n",
              "2     Slope         12.458005\n",
              "3     Total         25.317654"
            ]
          },
          "metadata": {},
          "execution_count": 11
        }
      ],
      "source": [
        "# Finally, let's calculate an error budget.  We would like to understand how much the various uncertainties in the experiment\n",
        "# contribute to the final error that we get in the extraction of k.\n",
        "\n",
        "error_budget = [['R_sphere',2*dR_sphere/R_sphere*100],['V',2*dV/V*100],['Slope',dslope/slope*100],['Total',dk/k*100]]\n",
        "df4 = pd.DataFrame(error_budget, columns = ['Source', 'Percentage Error'])\n",
        "\n",
        "df4"
      ]
    },
    {
      "cell_type": "markdown",
      "metadata": {
        "id": "FKN5HP0YVoVT"
      },
      "source": [
        "# Analysis of Part I\n",
        "\n",
        "Our first observation, as noted above, is that we see the expected linear dependence, as predicted by theory.\n",
        "\n",
        "The extracted value of $k_e$ is $(13.3 \\pm 3.3) \\times 10^{9} Nm^2/C^2$.  This is slightly higher than the expected value of $k_e = 9 \\times 10^{9} Nm^2/C^2$.\n"
      ]
    },
    {
      "cell_type": "markdown",
      "metadata": {
        "id": "gjPL5IOvVoVT"
      },
      "source": [
        "# Part II:  Investigation of the Dependence of the Force on Charge"
      ]
    },
    {
      "cell_type": "markdown",
      "metadata": {
        "id": "EmzNLAa9VoVT"
      },
      "source": [
        "Using the code from Part I as a starting point, analyze the data from Part II"
      ]
    },
    {
      "cell_type": "code",
      "execution_count": 12,
      "metadata": {
        "id": "MVlgFe01VoVU",
        "outputId": "4e5d57ba-3948-40d0-d4f6-983570f99a32",
        "colab": {
          "base_uri": "https://localhost:8080/"
        }
      },
      "outputs": [
        {
          "output_type": "stream",
          "name": "stdout",
          "text": [
            " Voltage_V  Theta  dTheta\n",
            "      6000     97     0.5\n",
            "      6000    100     0.5\n",
            "      5000     75     0.5\n",
            "      5000     78     0.5\n",
            "      4000     62     0.5\n",
            "      4000     65     0.5\n",
            "      3000     40     0.5\n",
            "      3000     44     0.5\n",
            "      2000     25     0.5\n",
            "      2000     23     0.5\n",
            "      1000     10     0.5\n",
            "      1000     11     0.5\n"
          ]
        }
      ],
      "source": [
        "# Create a Pandas DataFrame with data for part 1 of the experiment:  understanding the relation of Force to distance, at constant\n",
        "# charge\n",
        "\n",
        "# The data elements are [distance in cm, angle in degrees] ... again, since we are going to do a linear regression using OLS, we will\n",
        "# not include errors\n",
        "data1 = [[6000,97, 0.5], [6000,100,0.5], [5000,75,0.5], [5000,78,0.5], [4000,62,0.5], [4000,65,0.5], [3000,40,0.5], \n",
        "         [3000,44,0.5], [2000,25,0.5], [2000,23,0.5], [1000,10,0.5], [1000,11,0.5]]\n",
        "# create dataframe\n",
        "df2 = pd.DataFrame(data1, columns = ['Voltage_V', 'Theta','dTheta'])\n",
        "\n",
        "print(df2.to_string(index=False))"
      ]
    },
    {
      "cell_type": "code",
      "source": [
        "# We will have to convert the angle values to Forces, and also include an uncertainty.\n",
        "# We will have to convert the measured radius values to meters, and include an uncertainty.\n",
        "\n",
        "df2['Force'] = df2['Theta']*calibration_factor\n",
        "df2['dForce'] = df2['Force']*(dcalibration_factor/calibration_factor + \n",
        "                              df2['dTheta']/df2['Theta'])\n",
        "\n",
        "df2['Voltage'] = df2['Voltage_V']*0.01\n",
        "df2['dVoltage'] = 0.001\n",
        "\n",
        "print(df2.to_string(index=False))"
      ],
      "metadata": {
        "id": "Us7_SH_T_-dD",
        "outputId": "0e621c61-d7e6-4e74-c04f-da1c450aabcb",
        "colab": {
          "base_uri": "https://localhost:8080/"
        }
      },
      "execution_count": 14,
      "outputs": [
        {
          "output_type": "stream",
          "name": "stdout",
          "text": [
            " Voltage_V  Theta  dTheta        dForce     Force       Voltage  dVoltage\n",
            "  0.000143     97     0.5  2.993788e-06  0.000143  1.431047e-06     0.001\n",
            "  0.000148    100     0.5  3.063565e-06  0.000148  1.475306e-06     0.001\n",
            "  0.000111     75     0.5  2.482087e-06  0.000111  1.106480e-06     0.001\n",
            "  0.000115     78     0.5  2.551865e-06  0.000115  1.150739e-06     0.001\n",
            "  0.000091     62     0.5  2.179719e-06  0.000091  9.146900e-07     0.001\n",
            "  0.000096     65     0.5  2.249496e-06  0.000096  9.589492e-07     0.001\n",
            "  0.000059     40     0.5  1.668018e-06  0.000059  5.901226e-07     0.001\n",
            "  0.000065     44     0.5  1.761055e-06  0.000065  6.491349e-07     0.001\n",
            "  0.000037     25     0.5  1.319131e-06  0.000037  3.688266e-07     0.001\n",
            "  0.000034     23     0.5  1.272613e-06  0.000034  3.393205e-07     0.001\n",
            "  0.000015     10     0.5  9.702445e-07  0.000015  1.475306e-07     0.001\n",
            "  0.000016     11     0.5  9.935036e-07  0.000016  1.622837e-07     0.001\n"
          ]
        }
      ]
    },
    {
      "cell_type": "code",
      "source": [
        "xi = 1.0/(df2['Voltage'])**2\n",
        "yi = df2['Force']\n",
        "\n",
        "sigmaxi = xi*2.0*(df2['dVoltage']/df2['Voltage'])\n",
        "sigmayi = df2['dForce']\n",
        "\n",
        "##############################\n",
        "\n",
        "from scipy.odr import *\n",
        "\n",
        "def fitfunction(B, x):\n",
        "    '''Linear function y = m*x + b'''\n",
        "    # B is a vector of the parameters.\n",
        "    # x is an array of the current x values.\n",
        "    # x is in the same format as the x passed to Data or RealData.\n",
        "    #\n",
        "    # Return an array in the same format as y passed to Data or RealData.\n",
        "    return B[0]*x + B[1]\n",
        "\n",
        "linear = Model(fitfunction)\n",
        "mydata = RealData(xi, yi, sx=sigmaxi, sy=sigmayi)\n",
        "myodr = ODR(mydata, linear, beta0=[1., 2.])\n",
        "myoutput = myodr.run()\n",
        "\n",
        "myoutput.pprint()\n",
        "\n",
        "popt = myoutput.beta\n",
        "pcov = myoutput.cov_beta\n",
        "perr = myoutput.sd_beta\n",
        "\n",
        "# The following lines generate upper and lower 99% \"Confidence Bands\" on the fit, for visualization\n",
        "# purposes.\n",
        "\n",
        "ps = np.random.multivariate_normal(popt,pcov,10000)\n",
        "ysample=np.asarray([fitfunction(pi,xi) for pi in ps])\n",
        "\n",
        "lower = np.percentile(ysample,0.5,axis=0)\n",
        "upper = np.percentile(ysample,99.5,axis=0)\n",
        "middle = (lower+upper)/2.0\n",
        "\n",
        "print()\n",
        "print (\"Final Result: Y = (%0.9f +/- %0.9f) X + (%0.9f +/- %0.9f)\" % (popt[0],perr[0],popt[1],perr[1]))\n",
        "\n",
        "plt.figure(figsize=(8, 6), dpi=80)\n",
        "\n",
        "plt.errorbar(xi, yi, xerr=sigmaxi, yerr=sigmayi, fmt='o', capsize=2, capthick=1)\n",
        "\n",
        "plt.plot(xi,middle)\n",
        "plt.plot(xi,lower)\n",
        "plt.plot(xi,upper)\n",
        "\n",
        "#########################\n",
        "plt.xlabel('1/R$^2$ (m$^{-2})$')\n",
        "plt.ylabel('Force (Newtons)')\n",
        "plt.title('Coulombs Law:  Dependence of Force on Voltage')\n",
        "plt.show()"
      ],
      "metadata": {
        "id": "bekho7WaAedA",
        "outputId": "3277b5de-741d-4c75-877b-e703fe5c0bb9",
        "colab": {
          "base_uri": "https://localhost:8080/",
          "height": 625
        }
      },
      "execution_count": 15,
      "outputs": [
        {
          "output_type": "stream",
          "name": "stdout",
          "text": [
            "Beta: [-3.76152528e-17  1.57299884e-04]\n",
            "Beta Std Error: [6.94810328e-18 4.92213415e-06]\n",
            "Beta Covariance: [[ 1.13293551e-27 -6.18764563e-16]\n",
            " [-6.18764563e-16  5.68564251e-04]]\n",
            "Residual Variance: 4.261155097948891e-08\n",
            "Inverse Condition #: 8.990235718121616e-13\n",
            "Reason(s) for Halting:\n",
            "  Iteration limit reached\n",
            "\n",
            "Final Result: Y = (-0.000000000 +/- 0.000000000) X + (0.000157300 +/- 0.000004922)\n"
          ]
        },
        {
          "output_type": "display_data",
          "data": {
            "image/png": "[encoded data removed]",
            "text/plain": [
              "<Figure size 640x480 with 1 Axes>"
            ]
          },
          "metadata": {
            "needs_background": "light"
          }
        }
      ]
    },
    {
      "cell_type": "code",
      "source": [
        "#\n",
        "# Now, let us see if we can calculate what k is, based on the slope from the previous graph\n",
        "#\n",
        "\n",
        "slope = popt[0]\n",
        "# Let's choose +/- 3*sigma (99% confidence level) as the error in the slope.  Given that\n",
        "# we are going to combine this error together with errors in the sphere radius and the\n",
        "# sphere-to-sphere distance, which are clearly maximum possible error estimates, this is\n",
        "# a reasonable choice.\n",
        "dslope = 3*perr[0]\n",
        "\n",
        "V = 6000\n",
        "dV = 10 + 0.01*V\n",
        "R_sphere = 0.019\n",
        "dR_sphere = 0.001\n",
        "\n",
        "k = R_sphere**2*V**2/slope\n",
        "dk = k*(2*dR_sphere/R_sphere+2*dV/V+dslope/slope)\n",
        "\n",
        "print ('Extracted value of k = (%0.1f +/- %0.1f) x 10^9 Nm^2/C^2' % (k/1e9,dk/1e9))"
      ],
      "metadata": {
        "id": "6imZdT4xA5Fb",
        "outputId": "73942a2b-4629-4649-b7ec-a61c5a018c8a",
        "colab": {
          "base_uri": "https://localhost:8080/"
        }
      },
      "execution_count": 16,
      "outputs": [
        {
          "output_type": "stream",
          "name": "stdout",
          "text": [
            "Extracted value of k = (-345498142973.1 +/- 147026270723.4) x 10^9 Nm^2/C^2\n"
          ]
        }
      ]
    },
    {
      "cell_type": "code",
      "source": [
        "# Finally, let's calculate an error budget.  We would like to understand how much the various uncertainties in the experiment\n",
        "# contribute to the final error that we get in the extraction of k.\n",
        "\n",
        "error_budget = [['Voltage',2*'dVoltage'/'Voltage'*100],['Voltage',2*'dVoltage'/'Voltage'*100],['Slope',dslope/slope*100],['Total',dk/k*100]]\n",
        "df4 = pd.DataFrame(error_budget, columns = ['Source', 'Percentage Error'])\n",
        "\n",
        "df4"
      ],
      "metadata": {
        "id": "JXrd7OTSBBbB",
        "outputId": "236fdcf2-ed3d-4d5c-9681-f49afc727f7b",
        "colab": {
          "base_uri": "https://localhost:8080/",
          "height": 235
        }
      },
      "execution_count": 20,
      "outputs": [
        {
          "output_type": "error",
          "ename": "TypeError",
          "evalue": "ignored",
          "traceback": [
            "\u001b[0;31m---------------------------------------------------------------------------\u001b[0m",
            "\u001b[0;31mTypeError\u001b[0m                                 Traceback (most recent call last)",
            "\u001b[0;32m<ipython-input-20-f90c1d67ff21>\u001b[0m in \u001b[0;36m<module>\u001b[0;34m()\u001b[0m\n\u001b[1;32m      2\u001b[0m \u001b[0;31m# contribute to the final error that we get in the extraction of k.\u001b[0m\u001b[0;34m\u001b[0m\u001b[0;34m\u001b[0m\u001b[0;34m\u001b[0m\u001b[0m\n\u001b[1;32m      3\u001b[0m \u001b[0;34m\u001b[0m\u001b[0m\n\u001b[0;32m----> 4\u001b[0;31m \u001b[0merror_budget\u001b[0m \u001b[0;34m=\u001b[0m \u001b[0;34m[\u001b[0m\u001b[0;34m[\u001b[0m\u001b[0;34m'Voltage'\u001b[0m\u001b[0;34m,\u001b[0m\u001b[0;36m2\u001b[0m\u001b[0;34m*\u001b[0m\u001b[0;34m'dVoltage'\u001b[0m\u001b[0;34m/\u001b[0m\u001b[0;34m'Voltage'\u001b[0m\u001b[0;34m*\u001b[0m\u001b[0;36m100\u001b[0m\u001b[0;34m]\u001b[0m\u001b[0;34m,\u001b[0m\u001b[0;34m[\u001b[0m\u001b[0;34m'Voltage'\u001b[0m\u001b[0;34m,\u001b[0m\u001b[0;36m2\u001b[0m\u001b[0;34m*\u001b[0m\u001b[0;34m'dVoltage'\u001b[0m\u001b[0;34m/\u001b[0m\u001b[0;34m'Voltage'\u001b[0m\u001b[0;34m*\u001b[0m\u001b[0;36m100\u001b[0m\u001b[0;34m]\u001b[0m\u001b[0;34m,\u001b[0m\u001b[0;34m[\u001b[0m\u001b[0;34m'Slope'\u001b[0m\u001b[0;34m,\u001b[0m\u001b[0mdslope\u001b[0m\u001b[0;34m/\u001b[0m\u001b[0mslope\u001b[0m\u001b[0;34m*\u001b[0m\u001b[0;36m100\u001b[0m\u001b[0;34m]\u001b[0m\u001b[0;34m,\u001b[0m\u001b[0;34m[\u001b[0m\u001b[0;34m'Total'\u001b[0m\u001b[0;34m,\u001b[0m\u001b[0mdk\u001b[0m\u001b[0;34m/\u001b[0m\u001b[0mk\u001b[0m\u001b[0;34m*\u001b[0m\u001b[0;36m100\u001b[0m\u001b[0;34m]\u001b[0m\u001b[0;34m]\u001b[0m\u001b[0;34m\u001b[0m\u001b[0;34m\u001b[0m\u001b[0m\n\u001b[0m\u001b[1;32m      5\u001b[0m \u001b[0mdf4\u001b[0m \u001b[0;34m=\u001b[0m \u001b[0mpd\u001b[0m\u001b[0;34m.\u001b[0m\u001b[0mDataFrame\u001b[0m\u001b[0;34m(\u001b[0m\u001b[0merror_budget\u001b[0m\u001b[0;34m,\u001b[0m \u001b[0mcolumns\u001b[0m \u001b[0;34m=\u001b[0m \u001b[0;34m[\u001b[0m\u001b[0;34m'Source'\u001b[0m\u001b[0;34m,\u001b[0m \u001b[0;34m'Percentage Error'\u001b[0m\u001b[0;34m]\u001b[0m\u001b[0;34m)\u001b[0m\u001b[0;34m\u001b[0m\u001b[0;34m\u001b[0m\u001b[0m\n\u001b[1;32m      6\u001b[0m \u001b[0;34m\u001b[0m\u001b[0m\n",
            "\u001b[0;31mTypeError\u001b[0m: unsupported operand type(s) for /: 'str' and 'str'"
          ]
        }
      ]
    }
  ],
  "metadata": {
    "kernelspec": {
      "display_name": "Python 3",
      "language": "python",
      "name": "python3"
    },
    "language_info": {
      "codemirror_mode": {
        "name": "ipython",
        "version": 3
      },
      "file_extension": ".py",
      "mimetype": "text/x-python",
      "name": "python",
      "nbconvert_exporter": "python",
      "pygments_lexer": "ipython3",
      "version": "3.6.8"
    },
    "latex_envs": {
      "LaTeX_envs_menu_present": true,
      "autoclose": false,
      "autocomplete": true,
      "bibliofile": "biblio.bib",
      "cite_by": "apalike",
      "current_citInitial": 1,
      "eqLabelWithNumbers": true,
      "eqNumInitial": 1,
      "hotkeys": {
        "equation": "Ctrl-E",
        "itemize": "Ctrl-I"
      },
      "labels_anchors": false,
      "latex_user_defs": false,
      "report_style_numbering": false,
      "user_envs_cfg": false
    },
    "colab": {
      "name": "Coulombs_Law_Analysis_ODR.ipynb",
      "provenance": []
    }
  },
  "nbformat": 4,
  "nbformat_minor": 0
}